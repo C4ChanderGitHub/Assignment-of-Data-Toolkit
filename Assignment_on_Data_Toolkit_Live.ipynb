{
 "cells": [
  {
   "cell_type": "markdown",
   "id": "d7d66c84",
   "metadata": {},
   "source": [
    "# 1.\tDemonstrate three different methods for creating identical 2D arrays in NumPy. Provide the code for each method and the final output after each method"
   ]
  },
  {
   "cell_type": "code",
   "execution_count": 1,
   "id": "263ebb57",
   "metadata": {},
   "outputs": [],
   "source": [
    "import numpy as np"
   ]
  },
  {
   "cell_type": "code",
   "execution_count": 2,
   "id": "4834b0de",
   "metadata": {},
   "outputs": [
    {
     "data": {
      "text/plain": [
       "array([[2, 4],\n",
       "       [6, 8]])"
      ]
     },
     "execution_count": 2,
     "metadata": {},
     "output_type": "execute_result"
    }
   ],
   "source": [
    "'''1st method'''\n",
    "np.array([[2,4], [6,8]])\n"
   ]
  },
  {
   "cell_type": "code",
   "execution_count": 3,
   "id": "936ad673",
   "metadata": {},
   "outputs": [
    {
     "data": {
      "text/plain": [
       "array([[7, 7, 7],\n",
       "       [7, 7, 7],\n",
       "       [7, 7, 7]])"
      ]
     },
     "execution_count": 3,
     "metadata": {},
     "output_type": "execute_result"
    }
   ],
   "source": [
    "'''2nd method'''\n",
    "second_method = np.full((3,3),7)\n",
    "second_method"
   ]
  },
  {
   "cell_type": "code",
   "execution_count": 4,
   "id": "f14d17c7",
   "metadata": {},
   "outputs": [
    {
     "data": {
      "text/plain": [
       "array([[0., 0., 0.],\n",
       "       [0., 1., 2.],\n",
       "       [0., 2., 4.]])"
      ]
     },
     "execution_count": 4,
     "metadata": {},
     "output_type": "execute_result"
    }
   ],
   "source": [
    "'''3rd method'''\n",
    "np.fromfunction(lambda x,y: x*y, (3,3))"
   ]
  },
  {
   "cell_type": "markdown",
   "id": "1a42967b",
   "metadata": {},
   "source": [
    "# 2.\tUsing the NumPy function, generate an array of 100 evenly spaced numbers between 1 and 10 and Reshape that 1D array into a 2D array."
   ]
  },
  {
   "cell_type": "code",
   "execution_count": 5,
   "id": "f28b54ab",
   "metadata": {},
   "outputs": [
    {
     "data": {
      "text/plain": [
       "array([ 1.        ,  1.09090909,  1.18181818,  1.27272727,  1.36363636,\n",
       "        1.45454545,  1.54545455,  1.63636364,  1.72727273,  1.81818182,\n",
       "        1.90909091,  2.        ,  2.09090909,  2.18181818,  2.27272727,\n",
       "        2.36363636,  2.45454545,  2.54545455,  2.63636364,  2.72727273,\n",
       "        2.81818182,  2.90909091,  3.        ,  3.09090909,  3.18181818,\n",
       "        3.27272727,  3.36363636,  3.45454545,  3.54545455,  3.63636364,\n",
       "        3.72727273,  3.81818182,  3.90909091,  4.        ,  4.09090909,\n",
       "        4.18181818,  4.27272727,  4.36363636,  4.45454545,  4.54545455,\n",
       "        4.63636364,  4.72727273,  4.81818182,  4.90909091,  5.        ,\n",
       "        5.09090909,  5.18181818,  5.27272727,  5.36363636,  5.45454545,\n",
       "        5.54545455,  5.63636364,  5.72727273,  5.81818182,  5.90909091,\n",
       "        6.        ,  6.09090909,  6.18181818,  6.27272727,  6.36363636,\n",
       "        6.45454545,  6.54545455,  6.63636364,  6.72727273,  6.81818182,\n",
       "        6.90909091,  7.        ,  7.09090909,  7.18181818,  7.27272727,\n",
       "        7.36363636,  7.45454545,  7.54545455,  7.63636364,  7.72727273,\n",
       "        7.81818182,  7.90909091,  8.        ,  8.09090909,  8.18181818,\n",
       "        8.27272727,  8.36363636,  8.45454545,  8.54545455,  8.63636364,\n",
       "        8.72727273,  8.81818182,  8.90909091,  9.        ,  9.09090909,\n",
       "        9.18181818,  9.27272727,  9.36363636,  9.45454545,  9.54545455,\n",
       "        9.63636364,  9.72727273,  9.81818182,  9.90909091, 10.        ])"
      ]
     },
     "execution_count": 5,
     "metadata": {},
     "output_type": "execute_result"
    }
   ],
   "source": [
    "# Generate 100 evenly spaced numbers between 1 and 10\n",
    "One_Dimension = np.linspace(1, 10, 100)\n",
    "One_Dimension"
   ]
  },
  {
   "cell_type": "code",
   "execution_count": 6,
   "id": "86ce093b",
   "metadata": {},
   "outputs": [
    {
     "name": "stdout",
     "output_type": "stream",
     "text": [
      "Original 1D array:\n",
      "[1.         1.09090909 1.18181818 1.27272727 1.36363636 1.45454545\n",
      " 1.54545455 1.63636364 1.72727273 1.81818182]\n",
      "\n",
      "Reshaped 2D array:\n",
      "[[ 1.          1.09090909  1.18181818  1.27272727  1.36363636  1.45454545\n",
      "   1.54545455  1.63636364  1.72727273  1.81818182]\n",
      " [ 1.90909091  2.          2.09090909  2.18181818  2.27272727  2.36363636\n",
      "   2.45454545  2.54545455  2.63636364  2.72727273]\n",
      " [ 2.81818182  2.90909091  3.          3.09090909  3.18181818  3.27272727\n",
      "   3.36363636  3.45454545  3.54545455  3.63636364]\n",
      " [ 3.72727273  3.81818182  3.90909091  4.          4.09090909  4.18181818\n",
      "   4.27272727  4.36363636  4.45454545  4.54545455]\n",
      " [ 4.63636364  4.72727273  4.81818182  4.90909091  5.          5.09090909\n",
      "   5.18181818  5.27272727  5.36363636  5.45454545]\n",
      " [ 5.54545455  5.63636364  5.72727273  5.81818182  5.90909091  6.\n",
      "   6.09090909  6.18181818  6.27272727  6.36363636]\n",
      " [ 6.45454545  6.54545455  6.63636364  6.72727273  6.81818182  6.90909091\n",
      "   7.          7.09090909  7.18181818  7.27272727]\n",
      " [ 7.36363636  7.45454545  7.54545455  7.63636364  7.72727273  7.81818182\n",
      "   7.90909091  8.          8.09090909  8.18181818]\n",
      " [ 8.27272727  8.36363636  8.45454545  8.54545455  8.63636364  8.72727273\n",
      "   8.81818182  8.90909091  9.          9.09090909]\n",
      " [ 9.18181818  9.27272727  9.36363636  9.45454545  9.54545455  9.63636364\n",
      "   9.72727273  9.81818182  9.90909091 10.        ]]\n"
     ]
    }
   ],
   "source": [
    "# Reshape the 1D array into a 10x10 2D array\n",
    "reshaped_array = One_Dimension.reshape(10, 10)\n",
    "\n",
    "# Print the original and reshaped arrays\n",
    "print(\"Original 1D array:\")\n",
    "print(One_Dimension[:10])  # Print only the first 10 elements for brevity\n",
    "print()\n",
    "print(\"Reshaped 2D array:\")\n",
    "print(reshaped_array)\n"
   ]
  },
  {
   "cell_type": "markdown",
   "id": "532c0d64",
   "metadata": {},
   "source": [
    "# 3a The difference in np.array, np.asarray and np.asanyarray."
   ]
  },
  {
   "cell_type": "code",
   "execution_count": 7,
   "id": "bed2d726",
   "metadata": {},
   "outputs": [
    {
     "data": {
      "text/plain": [
       "'\\n\"np.array\" convert the input into array whether it is in the array or not and when you explicitly want a new copy of the\\ndata as a standard NumPy array.\\n\\n\"np.asarray\" also convert the input into array whether it is in the array or not and when you want a NumPy array view of\\nthe data if possible, while still allowing for a copy if needed. \\n\\n\"np.asanyarray\" when you specifically need to work with array-like objects or subclasses of ndarray without converting them\\nto standard ndarrays.\\n\\n'"
      ]
     },
     "execution_count": 7,
     "metadata": {},
     "output_type": "execute_result"
    }
   ],
   "source": [
    "'''\n",
    "\"np.array\" convert the input into array whether it is in the array or not and when you explicitly want a new copy of the\n",
    "data as a standard NumPy array.\n",
    "\n",
    "\"np.asarray\" also convert the input into array whether it is in the array or not and when you want a NumPy array view of\n",
    "the data if possible, while still allowing for a copy if needed. \n",
    "\n",
    "\"np.asanyarray\" when you specifically need to work with array-like objects or subclasses of ndarray without converting them\n",
    "to standard ndarrays.\n",
    "\n",
    "'''"
   ]
  },
  {
   "cell_type": "markdown",
   "id": "b00ffcb7",
   "metadata": {},
   "source": [
    "# 3b The difference between Deep copy and shallow copy."
   ]
  },
  {
   "cell_type": "code",
   "execution_count": 8,
   "id": "ad2a315d",
   "metadata": {},
   "outputs": [
    {
     "data": {
      "text/plain": [
       "'\\n\"Deep Copy\"\\nit is completely new and independent copy of the original object is created. This includes copying the values of\\nprimitive data types and creating entirely new copies of any referenced compound objects within the original object. \\nModifications made to the copy will not affect the original object and vice versa, as they are separate objects in memory.\\n\\n\"Shallow Copy\"\\nIn a shallow copy, a new object is created with the same values as the original object for primitive data types.\\nHowever, for compound objects (like lists, dictionaries, classes), the references to the inner objects are simply copied.\\nThis means both the original and the copy point to the same underlying data in memory.\\n\\n'"
      ]
     },
     "execution_count": 8,
     "metadata": {},
     "output_type": "execute_result"
    }
   ],
   "source": [
    "'''\n",
    "\"Deep Copy\"\n",
    "it is completely new and independent copy of the original object is created. This includes copying the values of\n",
    "primitive data types and creating entirely new copies of any referenced compound objects within the original object. \n",
    "Modifications made to the copy will not affect the original object and vice versa, as they are separate objects in memory.\n",
    "\n",
    "\"Shallow Copy\"\n",
    "In a shallow copy, a new object is created with the same values as the original object for primitive data types.\n",
    "However, for compound objects (like lists, dictionaries, classes), the references to the inner objects are simply copied.\n",
    "This means both the original and the copy point to the same underlying data in memory.\n",
    "\n",
    "'''"
   ]
  },
  {
   "cell_type": "markdown",
   "id": "9586fc72",
   "metadata": {},
   "source": [
    "# 4. Generate a 3x3 array with random floating-point numbers between 5 and 20. Then, round each number in the array to 2 decimal places."
   ]
  },
  {
   "cell_type": "code",
   "execution_count": 9,
   "id": "1b04ac0d",
   "metadata": {},
   "outputs": [
    {
     "name": "stdout",
     "output_type": "stream",
     "text": [
      "Original array:\n",
      "[[ 7.29114131 14.72275271  3.03228118]\n",
      " [ 6.38819972  0.82095369  7.44953433]\n",
      " [ 0.59198779  9.25964628  5.35058463]]\n",
      "\n",
      "Rounded array:\n",
      "[[ 7.29 14.72  3.03]\n",
      " [ 6.39  0.82  7.45]\n",
      " [ 0.59  9.26  5.35]]\n"
     ]
    }
   ],
   "source": [
    "# Generate random floats between 5 and 20\n",
    "random_array = np.random.rand(3, 3) * (20 - 5)\n",
    "\n",
    "# Round to 2 decimal places\n",
    "rounded_array = np.around(random_array, decimals=2)\n",
    "\n",
    "# Print the original and rounded arrays\n",
    "print(\"Original array:\")\n",
    "print(random_array)\n",
    "print()\n",
    "print(\"Rounded array:\")\n",
    "print(rounded_array)\n"
   ]
  },
  {
   "cell_type": "markdown",
   "id": "b7807204",
   "metadata": {},
   "source": [
    "# 5.\tCreate a NumPy array with random integers between 1 and 10 of shape (5, 6). After creating the array perform the following operations:\n",
    "## 5a\tExtract all even integers from array."
   ]
  },
  {
   "cell_type": "code",
   "execution_count": 10,
   "id": "5623fb4a",
   "metadata": {},
   "outputs": [
    {
     "name": "stdout",
     "output_type": "stream",
     "text": [
      "[[5 5 9 6 3 2]\n",
      " [1 6 1 3 5 5]\n",
      " [4 3 6 6 6 5]\n",
      " [9 7 6 7 8 1]\n",
      " [1 2 7 4 5 1]]\n"
     ]
    }
   ],
   "source": [
    "# Generate a 5x6 array of random integers between 1 and 10\n",
    "New_array5x6 = np.random.randint(1, 11, size=(5, 6))\n",
    "\n",
    "print(New_array5x6)\n"
   ]
  },
  {
   "cell_type": "code",
   "execution_count": 11,
   "id": "a04c49b3",
   "metadata": {},
   "outputs": [
    {
     "name": "stdout",
     "output_type": "stream",
     "text": [
      "Original array:\n",
      "[[5 5 9 6 3 2]\n",
      " [1 6 1 3 5 5]\n",
      " [4 3 6 6 6 5]\n",
      " [9 7 6 7 8 1]\n",
      " [1 2 7 4 5 1]]\n",
      "\n",
      "Even elements:\n",
      "[6 2 6 4 6 6 6 6 8 2 4]\n"
     ]
    }
   ],
   "source": [
    "# Extract even integers\n",
    "even_int = New_array5x6[New_array5x6 % 2 == 0]\n",
    "\n",
    "print(\"Original array:\")\n",
    "print(New_array5x6)\n",
    "print()\n",
    "print(\"Even elements:\")\n",
    "print(even_int)"
   ]
  },
  {
   "cell_type": "markdown",
   "id": "4ad88f17",
   "metadata": {},
   "source": [
    "## 5b\tExtract all odd integers from array"
   ]
  },
  {
   "cell_type": "code",
   "execution_count": 12,
   "id": "564bcc18",
   "metadata": {},
   "outputs": [
    {
     "name": "stdout",
     "output_type": "stream",
     "text": [
      "Original array:\n",
      "[[5 5 9 6 3 2]\n",
      " [1 6 1 3 5 5]\n",
      " [4 3 6 6 6 5]\n",
      " [9 7 6 7 8 1]\n",
      " [1 2 7 4 5 1]]\n",
      "\n",
      "odd elements:\n",
      "[5 5 9 3 1 1 3 5 5 3 5 9 7 7 1 1 7 5 1]\n"
     ]
    }
   ],
   "source": [
    "# Extract odd integers\n",
    "odd_int = New_array5x6[New_array5x6 % 2 != 0]\n",
    "\n",
    "print(\"Original array:\")\n",
    "print(New_array5x6)\n",
    "print()\n",
    "print(\"odd elements:\")\n",
    "print(odd_int)"
   ]
  },
  {
   "cell_type": "markdown",
   "id": "f176f487",
   "metadata": {},
   "source": [
    "# 6.\tCreate a 3D NumPy array of shape (3,3,3) containing random integers between 1 and 10. Perform the following operations:\n",
    "## 6a Find the indices of the maximum values along each depth level (third axis).\n"
   ]
  },
  {
   "cell_type": "code",
   "execution_count": 13,
   "id": "21a6378d",
   "metadata": {},
   "outputs": [
    {
     "name": "stdout",
     "output_type": "stream",
     "text": [
      "Original array:\n",
      "[[[ 7  2  8]\n",
      "  [ 2 10  4]\n",
      "  [ 7  5  3]]\n",
      "\n",
      " [[ 3  9  9]\n",
      "  [10  9  5]\n",
      "  [ 5  4  4]]\n",
      "\n",
      " [[ 6  3  4]\n",
      "  [10  1  2]\n",
      "  [ 2  9  3]]]\n",
      "\n",
      "Indices of maximum values along depth level:\n",
      "[[2 1 0]\n",
      " [1 0 0]\n",
      " [0 0 1]]\n"
     ]
    }
   ],
   "source": [
    "# Generate random integers between 1 and 10.\n",
    "array_3D = np.random.randint(1, 11, size=(3, 3, 3))\n",
    "\n",
    "#Find the indices of the maximum values along each depth level (third axis)\n",
    "max_indices = np.argmax(array_3D, axis=2)\n",
    "\n",
    "# Print the original array and the indices of maximum values\n",
    "print(\"Original array:\")\n",
    "print(array_3D)\n",
    "print()\n",
    "print(\"Indices of maximum values along depth level:\")\n",
    "print(max_indices)"
   ]
  },
  {
   "cell_type": "markdown",
   "id": "2c90bf9f",
   "metadata": {},
   "source": [
    "## 6b Perform element-wise multiplication of between both array."
   ]
  },
  {
   "cell_type": "code",
   "execution_count": 14,
   "id": "97b598ce",
   "metadata": {},
   "outputs": [
    {
     "ename": "NameError",
     "evalue": "name 'array' is not defined",
     "output_type": "error",
     "traceback": [
      "\u001b[1;31m---------------------------------------------------------------------------\u001b[0m",
      "\u001b[1;31mNameError\u001b[0m                                 Traceback (most recent call last)",
      "Cell \u001b[1;32mIn[14], line 2\u001b[0m\n\u001b[0;32m      1\u001b[0m \u001b[38;5;66;03m# Element-wise multiplication\u001b[39;00m\n\u001b[1;32m----> 2\u001b[0m element_wise_multiply \u001b[38;5;241m=\u001b[39m array \u001b[38;5;241m*\u001b[39m array\n\u001b[0;32m      4\u001b[0m \u001b[38;5;66;03m# Print the original array and the product\u001b[39;00m\n\u001b[0;32m      5\u001b[0m \u001b[38;5;28mprint\u001b[39m(\u001b[38;5;124m\"\u001b[39m\u001b[38;5;124mOriginal array:\u001b[39m\u001b[38;5;124m\"\u001b[39m)\n",
      "\u001b[1;31mNameError\u001b[0m: name 'array' is not defined"
     ]
    }
   ],
   "source": [
    "# Element-wise multiplication\n",
    "element_wise_multiply = array * array\n",
    "\n",
    "# Print the original array and the product\n",
    "print(\"Original array:\")\n",
    "print(array_3D)\n",
    "print()\n",
    "print(\"Element-wise multiplication:\")\n",
    "print(element_wise_multiply)"
   ]
  },
  {
   "cell_type": "markdown",
   "id": "5a894f2b",
   "metadata": {},
   "source": [
    "# 7.\tClean and transform the ‘Phone’ column in the sample dataset to remove non-numeric characters and convert it to a numeric data type. Also display the table attributes and data types of each column."
   ]
  },
  {
   "cell_type": "code",
   "execution_count": null,
   "id": "1184fb67",
   "metadata": {},
   "outputs": [],
   "source": [
    "import pandas as pd"
   ]
  },
  {
   "cell_type": "code",
   "execution_count": null,
   "id": "1cfabf0e",
   "metadata": {},
   "outputs": [],
   "source": [
    "data = pd.read_csv('People Data.csv')"
   ]
  },
  {
   "cell_type": "code",
   "execution_count": null,
   "id": "a6a1e648",
   "metadata": {},
   "outputs": [],
   "source": [
    "# Remove all characters except digits, '-', and ' ' (space)\n",
    "data['Phone'] = data['Phone'].str.replace(r\"[^\\d\\- ]\", \"\", regex=True)\n",
    "print(data.info())"
   ]
  },
  {
   "cell_type": "markdown",
   "id": "7485dc29",
   "metadata": {},
   "source": [
    "# 8.\tPerform the following tasks using people dataset:\n",
    "## 8a Read the ‘data.csv’ file using pandas, skipping the first 50 rows.\n"
   ]
  },
  {
   "cell_type": "code",
   "execution_count": null,
   "id": "4683f520",
   "metadata": {},
   "outputs": [],
   "source": [
    "data"
   ]
  },
  {
   "cell_type": "code",
   "execution_count": null,
   "id": "717cddc2",
   "metadata": {},
   "outputs": [],
   "source": [
    "# Skipping the first 50 rows\n",
    "df = pd.read_csv('People Data.csv', skiprows=50)"
   ]
  },
  {
   "cell_type": "code",
   "execution_count": null,
   "id": "4f884147",
   "metadata": {},
   "outputs": [],
   "source": [
    "df"
   ]
  },
  {
   "cell_type": "markdown",
   "id": "13e3661e",
   "metadata": {},
   "source": [
    "## 8b Only read the columns: ‘Last Name’, ‘Gender’, ‘Email’, ‘Phone’ and ‘Salary’ from the file."
   ]
  },
  {
   "cell_type": "code",
   "execution_count": null,
   "id": "b09ffdb2",
   "metadata": {},
   "outputs": [],
   "source": [
    "new = data[['Last Name', 'Gender', 'Email', 'Phone', 'Salary']]\n",
    "new"
   ]
  },
  {
   "cell_type": "markdown",
   "id": "cd90dfd8",
   "metadata": {},
   "source": [
    "## 8c Display the first 10 rows of the filtered dataset."
   ]
  },
  {
   "cell_type": "code",
   "execution_count": null,
   "id": "d2b62001",
   "metadata": {},
   "outputs": [],
   "source": [
    "print(data.head(10))"
   ]
  },
  {
   "cell_type": "markdown",
   "id": "d3fc796e",
   "metadata": {},
   "source": [
    "## 8d Extract the ‘Salary’ column as a series and display its last 5 values."
   ]
  },
  {
   "cell_type": "code",
   "execution_count": null,
   "id": "9e014b6c",
   "metadata": {},
   "outputs": [],
   "source": [
    "salary_series = data['Salary']\n",
    "# Display the last 5 values\n",
    "print(salary_series.tail(5))"
   ]
  },
  {
   "cell_type": "markdown",
   "id": "54ced73c",
   "metadata": {},
   "source": [
    "# 9.\tFilter and select rows from the People_Dataset, where the “Last Name' column contains the name 'Duke', 'Gender' column contains the word Female and ‘Salary’ should be less than 85000."
   ]
  },
  {
   "cell_type": "code",
   "execution_count": null,
   "id": "341a141a",
   "metadata": {},
   "outputs": [],
   "source": []
  },
  {
   "cell_type": "markdown",
   "id": "e612d1cf",
   "metadata": {},
   "source": [
    "# 10.\tCreate a 7*5 Dataframe in Pandas using a series generated from 35 random integers between 1 to 6?"
   ]
  },
  {
   "cell_type": "code",
   "execution_count": null,
   "id": "9c52b149",
   "metadata": {},
   "outputs": [],
   "source": [
    "# Generate 35 random integers between 1 and 6 (inclusive)\n",
    "random_numbers = np.random.randint(1, 7, size=35)\n",
    "\n",
    "# Create a Series from the random numbers\n",
    "data_series = pd.Series(random_numbers)\n",
    "\n",
    "# Reshape the Series into a 7x5 DataFrame\n",
    "reshaped_df = data_series.values.reshape(7, 5)  # Use values attribute for NumPy array\n",
    "\n",
    "# Create a DataFrame from the reshaped array (optional)\n",
    "df = pd.DataFrame(reshaped_df)\n",
    "\n",
    "# Print the DataFrame\n",
    "print(df)"
   ]
  },
  {
   "cell_type": "markdown",
   "id": "b07d86ef",
   "metadata": {},
   "source": [
    "# 11.\tCreate two different Series, each of length 50, with the following criteria:\n",
    "## 11a The first Series should contain random numbers ranging from 10 to 50.\n"
   ]
  },
  {
   "cell_type": "code",
   "execution_count": null,
   "id": "48c3f703",
   "metadata": {},
   "outputs": [],
   "source": []
  },
  {
   "cell_type": "markdown",
   "id": "2384ad90",
   "metadata": {},
   "source": [
    "## 11b The second Series should contain random numbers ranging from 100 to 1000."
   ]
  },
  {
   "cell_type": "code",
   "execution_count": null,
   "id": "66bfaf21",
   "metadata": {},
   "outputs": [],
   "source": []
  },
  {
   "cell_type": "markdown",
   "id": "3fa627ae",
   "metadata": {},
   "source": [
    "## 11c Create a DataFrame by joining these Series by column, and, change the names of the columns to 'col1', 'col2', etc. "
   ]
  },
  {
   "cell_type": "code",
   "execution_count": null,
   "id": "bb9f526e",
   "metadata": {},
   "outputs": [],
   "source": []
  },
  {
   "cell_type": "markdown",
   "id": "95e88e7c",
   "metadata": {},
   "source": [
    "# 12.\tPerform the following operations using people data set:\n",
    "## 12a Delete the 'Email', 'Phone', and 'Date of birth' columns from the dataset.\n"
   ]
  },
  {
   "cell_type": "code",
   "execution_count": null,
   "id": "77461b55",
   "metadata": {},
   "outputs": [],
   "source": []
  },
  {
   "cell_type": "markdown",
   "id": "4972d953",
   "metadata": {},
   "source": [
    "## 12b\tDelete the rows containing any missing values."
   ]
  },
  {
   "cell_type": "code",
   "execution_count": null,
   "id": "6d91d10e",
   "metadata": {},
   "outputs": [],
   "source": []
  },
  {
   "cell_type": "markdown",
   "id": "8b0776c7",
   "metadata": {},
   "source": [
    "## 12c Print the final output also. "
   ]
  },
  {
   "cell_type": "code",
   "execution_count": null,
   "id": "a0721608",
   "metadata": {},
   "outputs": [],
   "source": []
  },
  {
   "cell_type": "markdown",
   "id": "438e6b11",
   "metadata": {},
   "source": [
    "# 13.\tCreate two NumPy arrays, x and y, each containing 100 random float values between 0 and 1. Perform the following tasks using Matplotlib and NumPy:\n",
    "## 13a Create a scatter plot using x and y, setting the color of the points to red and the marker style to 'o'.\n"
   ]
  },
  {
   "cell_type": "code",
   "execution_count": null,
   "id": "506b5ab0",
   "metadata": {},
   "outputs": [],
   "source": []
  },
  {
   "cell_type": "markdown",
   "id": "c6c92fa8",
   "metadata": {},
   "source": [
    "## 13b Add a horizontal line at y = 0.5 using a dashed line style and label it as 'y = 0.5'. "
   ]
  },
  {
   "cell_type": "code",
   "execution_count": null,
   "id": "648382bc",
   "metadata": {},
   "outputs": [],
   "source": []
  },
  {
   "cell_type": "markdown",
   "id": "b68400a9",
   "metadata": {},
   "source": [
    "## 13c Add a vertical line at x = 0.5 using a dotted line style and label it as 'x = 0.5'."
   ]
  },
  {
   "cell_type": "code",
   "execution_count": null,
   "id": "a5eb7b25",
   "metadata": {},
   "outputs": [],
   "source": []
  },
  {
   "cell_type": "markdown",
   "id": "a9d8432a",
   "metadata": {},
   "source": [
    "## 13d Label the x-axis as 'X-axis' and the y-axis as 'Y-axis'."
   ]
  },
  {
   "cell_type": "code",
   "execution_count": null,
   "id": "8b52de08",
   "metadata": {},
   "outputs": [],
   "source": []
  },
  {
   "cell_type": "markdown",
   "id": "26fd0723",
   "metadata": {},
   "source": [
    "## 13e Set the title of the plot as 'Advanced Scatter Plot of Random Values'."
   ]
  },
  {
   "cell_type": "code",
   "execution_count": null,
   "id": "2e29cf83",
   "metadata": {},
   "outputs": [],
   "source": []
  },
  {
   "cell_type": "markdown",
   "id": "add4cbf9",
   "metadata": {},
   "source": [
    "## 13f Display a legend for the scatter plot, the horizontal line, and the vertical line. "
   ]
  },
  {
   "cell_type": "code",
   "execution_count": null,
   "id": "ed0606bb",
   "metadata": {},
   "outputs": [],
   "source": []
  },
  {
   "cell_type": "markdown",
   "id": "04c9aca6",
   "metadata": {},
   "source": [
    "# 14.\tCreate a time-series dataset in a Pandas DataFrame with columns: 'Date', 'Temperature', 'Humidity' and Perform the following tasks using Matplotlib: \n",
    "## 14a Plot the 'Temperature' and 'Humidity' on the same plot with different y-axes (left y-axis for 'Temperature' and right y-axis for 'Humidity').\n"
   ]
  },
  {
   "cell_type": "code",
   "execution_count": null,
   "id": "d825f39f",
   "metadata": {},
   "outputs": [],
   "source": []
  },
  {
   "cell_type": "markdown",
   "id": "835270dc",
   "metadata": {},
   "source": [
    "## 14b Label the x-axis as 'Date'."
   ]
  },
  {
   "cell_type": "code",
   "execution_count": null,
   "id": "e2a21064",
   "metadata": {},
   "outputs": [],
   "source": []
  },
  {
   "cell_type": "markdown",
   "id": "afa15aaf",
   "metadata": {},
   "source": [
    "## 14c Set the title of the plot as 'Temperature and Humidity Over Time'. "
   ]
  },
  {
   "cell_type": "code",
   "execution_count": null,
   "id": "070392b7",
   "metadata": {},
   "outputs": [],
   "source": []
  },
  {
   "cell_type": "markdown",
   "id": "e8de2d7d",
   "metadata": {},
   "source": [
    "# 15.\tCreate a NumPy array data containing 1000 samples from a normal distribution. Perform the following tasks using Matplotlib:\n",
    "## 15a Plot a histogram of the data with 30 bins."
   ]
  },
  {
   "cell_type": "code",
   "execution_count": null,
   "id": "2ab0d4b0",
   "metadata": {},
   "outputs": [],
   "source": []
  },
  {
   "cell_type": "markdown",
   "id": "ca22dbaa",
   "metadata": {},
   "source": [
    "## 15b Overlay a line plot representing the normal distribution's probability density function (PDF). "
   ]
  },
  {
   "cell_type": "code",
   "execution_count": null,
   "id": "7580e85a",
   "metadata": {},
   "outputs": [],
   "source": []
  },
  {
   "cell_type": "markdown",
   "id": "6d41ec1f",
   "metadata": {},
   "source": [
    "## 15c Label the x-axis as 'Value' and the y-axis as 'Frequency/Probability'. "
   ]
  },
  {
   "cell_type": "code",
   "execution_count": null,
   "id": "9b424321",
   "metadata": {},
   "outputs": [],
   "source": []
  },
  {
   "cell_type": "markdown",
   "id": "81b5a73f",
   "metadata": {},
   "source": [
    "## 15d Set the title of the plot as 'Histogram with PDF Overlay'. "
   ]
  },
  {
   "cell_type": "code",
   "execution_count": null,
   "id": "c0fa9eb2",
   "metadata": {},
   "outputs": [],
   "source": []
  },
  {
   "cell_type": "markdown",
   "id": "3ffed374",
   "metadata": {},
   "source": [
    "# 16 Set the title of the plot as 'Histogram with PDF Overlay'."
   ]
  },
  {
   "cell_type": "code",
   "execution_count": null,
   "id": "553fa842",
   "metadata": {},
   "outputs": [],
   "source": [
    "import matplotlib.pyplot as plt\n",
    "\n",
    "# histogram and PDF overlay)\n",
    "\n",
    "# Set the plot title\n",
    "plt.title('Histogram with PDF Overlay')\n",
    "\n",
    "# Display the plot\n",
    "plt.show()"
   ]
  },
  {
   "cell_type": "markdown",
   "id": "97b5ff7d",
   "metadata": {},
   "source": [
    "# 17.\tCreate a Seaborn scatter plot of two random arrays, color points based on their position relative to the origin (quadrants), add a legend, label the axes, and set the title as 'Quadrant-wise Scatter Plot'."
   ]
  },
  {
   "cell_type": "code",
   "execution_count": null,
   "id": "3407c7ed",
   "metadata": {},
   "outputs": [],
   "source": [
    "import seaborn as sns\n",
    "import numpy as np\n",
    "import matplotlib.pyplot as plt  # Needed for legend\n",
    "\n",
    "# Generate random arrays\n",
    "np.random.seed(10)  # Set a seed for reproducibility\n",
    "x = np.random.randn(100)  # 100 random values from a standard normal distribution\n",
    "y = np.random.randn(100)\n",
    "\n",
    "# Define a function to determine quadrants based on origin\n",
    "def get_quadrant(x, y):\n",
    "  if x > 0 and y > 0:\n",
    "    return \"Upper Right\"\n",
    "  elif x < 0 and y > 0:\n",
    "    return \"Upper Left\"\n",
    "  elif x < 0 and y < 0:\n",
    "    return \"Lower Left\"\n",
    "  else:\n",
    "    return \"Lower Right\"\n",
    "\n",
    "# Create a new array for quadrant labels\n",
    "quadrants = [get_quadrant(i, j) for i, j in zip(x, y)]\n",
    "\n",
    "# Create the scatter plot with quadrant coloring and legend\n",
    "sns.scatterplot(x=x, y=y, hue=quadrants, palette=\"Set3\")\n",
    "plt.legend(title=\"Quadrant\")  # Add legend with title\n",
    "\n",
    "# Label axes and set title\n",
    "plt.xlabel(\"X-axis\")\n",
    "plt.ylabel(\"Y-axis\")\n",
    "plt.title(\"Quadrant-wise Scatter Plot\")\n",
    "\n",
    "# Display the plot\n",
    "plt.show()"
   ]
  },
  {
   "cell_type": "markdown",
   "id": "854dd2dc",
   "metadata": {},
   "source": [
    "# 18.\tWith Bokeh, plot a line chart of a sine wave function, add grid lines, label the axes, and set the title as 'Sine Wave Function'."
   ]
  },
  {
   "cell_type": "code",
   "execution_count": null,
   "id": "644e233f",
   "metadata": {},
   "outputs": [],
   "source": []
  },
  {
   "cell_type": "markdown",
   "id": "50173d12",
   "metadata": {},
   "source": [
    "# 19.\tUsing Bokeh, generate a bar chart of randomly generated categorical data, color bars based on their values, add hover tooltips to display exact values, label the axes, and set the title as 'Random Categorical Bar Chart'."
   ]
  },
  {
   "cell_type": "code",
   "execution_count": null,
   "id": "6198c489",
   "metadata": {},
   "outputs": [],
   "source": []
  },
  {
   "cell_type": "markdown",
   "id": "fee38bab",
   "metadata": {},
   "source": [
    "# 20.\tUsing Plotly, create a basic line plot of a randomly generated dataset, label the axes, and set the title as 'Simple Line Plot'."
   ]
  },
  {
   "cell_type": "code",
   "execution_count": null,
   "id": "0062d1af",
   "metadata": {},
   "outputs": [],
   "source": []
  },
  {
   "cell_type": "markdown",
   "id": "6aa191a3",
   "metadata": {},
   "source": [
    "# 21.\tUsing Plotly, create an interactive pie chart of randomly generated data, add labels and percentages, set the title as 'Interactive Pie Chart'."
   ]
  },
  {
   "cell_type": "code",
   "execution_count": null,
   "id": "318abe41",
   "metadata": {},
   "outputs": [],
   "source": []
  }
 ],
 "metadata": {
  "kernelspec": {
   "display_name": "Python 3 (ipykernel)",
   "language": "python",
   "name": "python3"
  },
  "language_info": {
   "codemirror_mode": {
    "name": "ipython",
    "version": 3
   },
   "file_extension": ".py",
   "mimetype": "text/x-python",
   "name": "python",
   "nbconvert_exporter": "python",
   "pygments_lexer": "ipython3",
   "version": "3.11.5"
  }
 },
 "nbformat": 4,
 "nbformat_minor": 5
}
